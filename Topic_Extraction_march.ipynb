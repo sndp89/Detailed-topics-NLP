{
 "cells": [
  {
   "cell_type": "code",
   "execution_count": 7,
   "metadata": {},
   "outputs": [
    {
     "name": "stderr",
     "output_type": "stream",
     "text": [
      "unable to import 'smart_open.gcs', disabling that module\n"
     ]
    }
   ],
   "source": [
    "import pandas as pd\n",
    "import random\n",
    "import numpy as np\n",
    "import spacy\n",
    "from tqdm import tqdm\n",
    "from pprint import pprint\n",
    "import re\n",
    "import os\n",
    "import time\n",
    "import pickle\n",
    "import tensorflow as tf\n",
    "import tensorflow_hub as hub\n",
    "import nltk\n",
    "import nltk.data\n",
    "from sklearn.decomposition import LatentDirichletAllocation\n",
    "from nltk.corpus import stopwords\n",
    "from nltk.tokenize import line_tokenize\n",
    "from nltk.stem.porter import PorterStemmer\n",
    "from nltk.stem import WordNetLemmatizer\n",
    "from nltk import word_tokenize, pos_tag, ne_chunk\n",
    "from nltk.chunk import tree2conlltags\n",
    "from sklearn.model_selection import train_test_split\n",
    "import gensim\n",
    "from gensim.utils import simple_preprocess\n",
    "from gensim.parsing.preprocessing import STOPWORDS\n",
    "from nltk.stem import WordNetLemmatizer, SnowballStemmer\n",
    "from nltk import PorterStemmer\n",
    "from nltk.stem.porter import *\n",
    "from gensim import corpora, models\n",
    "from wordcloud import WordCloud, STOPWORDS\n",
    "import nltk, math, codecs\n",
    "from gensim.models import Doc2Vec\n",
    "from nltk.cluster.kmeans import KMeansClusterer\n",
    "from nltk.corpus import stopwords\n",
    "from wordcloud import WordCloud, STOPWORDS \n",
    "import matplotlib.pyplot as plt \n",
    "pd.set_option('display.max_colwidth', 200)\n",
    "from nltk.collocations import *\n",
    "import warnings\n",
    "warnings.filterwarnings(\"ignore\")"
   ]
  },
  {
   "cell_type": "code",
   "execution_count": null,
   "metadata": {},
   "outputs": [],
   "source": [
    "nltk.download('all')"
   ]
  },
  {
   "cell_type": "code",
   "execution_count": 9,
   "metadata": {},
   "outputs": [],
   "source": [
    "n=1000000\n",
    "s=950000\n",
    "random.seed(3358439386)\n",
    "skip = sorted(random.sample(range(n),n-s))\n",
    "data = pd.read_csv(\"/Users/sbalas203/Downloads/Chomsky-NLP/ivr_utterances_march.csv\", skiprows=skip, header=0)"
   ]
  },
  {
   "cell_type": "code",
   "execution_count": 10,
   "metadata": {},
   "outputs": [
    {
     "data": {
      "text/html": [
       "<div>\n",
       "<style scoped>\n",
       "    .dataframe tbody tr th:only-of-type {\n",
       "        vertical-align: middle;\n",
       "    }\n",
       "\n",
       "    .dataframe tbody tr th {\n",
       "        vertical-align: top;\n",
       "    }\n",
       "\n",
       "    .dataframe thead th {\n",
       "        text-align: right;\n",
       "    }\n",
       "</style>\n",
       "<table border=\"1\" class=\"dataframe\">\n",
       "  <thead>\n",
       "    <tr style=\"text-align: right;\">\n",
       "      <th></th>\n",
       "      <th>REPORTED_UTTERANCE_TEXT</th>\n",
       "      <th>IVR_END_STATUS_NM</th>\n",
       "      <th>CUSTOMER_ACCOUNT_ID</th>\n",
       "      <th>IVR_CUSTOMER_MARKET_NM</th>\n",
       "      <th>CALL_DATE</th>\n",
       "      <th>REPORTED_NAVIGATION_MODULE_NM</th>\n",
       "      <th>REPORTED_NAVIGATION_MODULE_FUNCTION_NM</th>\n",
       "      <th>LAST_NON_TRANSFER_MODULE_NM</th>\n",
       "      <th>LAST_NON_TRANSFER_MODULE_FUNCTION_NM</th>\n",
       "    </tr>\n",
       "  </thead>\n",
       "  <tbody>\n",
       "    <tr>\n",
       "      <td>0</td>\n",
       "      <td>pay my bill</td>\n",
       "      <td>self_service</td>\n",
       "      <td>480402628</td>\n",
       "      <td>Florida</td>\n",
       "      <td>2020-03-03</td>\n",
       "      <td>PAYMENT</td>\n",
       "      <td>PaymentConfSMS</td>\n",
       "      <td>PAYMENT</td>\n",
       "      <td>PayConfirmation</td>\n",
       "    </tr>\n",
       "    <tr>\n",
       "      <td>1</td>\n",
       "      <td>would like my contract</td>\n",
       "      <td>agent</td>\n",
       "      <td>29830704</td>\n",
       "      <td>Portland</td>\n",
       "      <td>2020-03-18</td>\n",
       "      <td>GLOBAL</td>\n",
       "      <td>BroadcastMsg</td>\n",
       "      <td>CALLERINTENT</td>\n",
       "      <td>NLDisambig_Reprompt</td>\n",
       "    </tr>\n",
       "    <tr>\n",
       "      <td>2</td>\n",
       "      <td>need to talk to agent</td>\n",
       "      <td>agent</td>\n",
       "      <td>550243294</td>\n",
       "      <td>Keystone</td>\n",
       "      <td>2020-02-29</td>\n",
       "      <td>APPOINTMENT</td>\n",
       "      <td>FutureAppointment</td>\n",
       "      <td>CALLERINTENT</td>\n",
       "      <td>NLDisambig_Reprompt</td>\n",
       "    </tr>\n",
       "    <tr>\n",
       "      <td>3</td>\n",
       "      <td>representative</td>\n",
       "      <td>agent</td>\n",
       "      <td>550807015</td>\n",
       "      <td>Nashville</td>\n",
       "      <td>2020-03-20</td>\n",
       "      <td>APPOINTMENT</td>\n",
       "      <td>AppointmentsPI</td>\n",
       "      <td>CALLERINTENT</td>\n",
       "      <td>NLDisambig_Reprompt</td>\n",
       "    </tr>\n",
       "    <tr>\n",
       "      <td>4</td>\n",
       "      <td>charges</td>\n",
       "      <td>agent</td>\n",
       "      <td>519773765</td>\n",
       "      <td>Beltway</td>\n",
       "      <td>2020-03-06</td>\n",
       "      <td>BILLING</td>\n",
       "      <td>BillingMenus</td>\n",
       "      <td>BILLING</td>\n",
       "      <td>BillingAgent</td>\n",
       "    </tr>\n",
       "  </tbody>\n",
       "</table>\n",
       "</div>"
      ],
      "text/plain": [
       "  REPORTED_UTTERANCE_TEXT IVR_END_STATUS_NM  CUSTOMER_ACCOUNT_ID  \\\n",
       "0             pay my bill      self_service            480402628   \n",
       "1  would like my contract             agent             29830704   \n",
       "2   need to talk to agent             agent            550243294   \n",
       "3          representative             agent            550807015   \n",
       "4                 charges             agent            519773765   \n",
       "\n",
       "  IVR_CUSTOMER_MARKET_NM   CALL_DATE REPORTED_NAVIGATION_MODULE_NM  \\\n",
       "0                Florida  2020-03-03                       PAYMENT   \n",
       "1               Portland  2020-03-18                        GLOBAL   \n",
       "2               Keystone  2020-02-29                   APPOINTMENT   \n",
       "3              Nashville  2020-03-20                   APPOINTMENT   \n",
       "4                Beltway  2020-03-06                       BILLING   \n",
       "\n",
       "  REPORTED_NAVIGATION_MODULE_FUNCTION_NM LAST_NON_TRANSFER_MODULE_NM  \\\n",
       "0                         PaymentConfSMS                     PAYMENT   \n",
       "1                           BroadcastMsg                CALLERINTENT   \n",
       "2                      FutureAppointment                CALLERINTENT   \n",
       "3                         AppointmentsPI                CALLERINTENT   \n",
       "4                           BillingMenus                     BILLING   \n",
       "\n",
       "  LAST_NON_TRANSFER_MODULE_FUNCTION_NM  \n",
       "0                      PayConfirmation  \n",
       "1                  NLDisambig_Reprompt  \n",
       "2                  NLDisambig_Reprompt  \n",
       "3                  NLDisambig_Reprompt  \n",
       "4                         BillingAgent  "
      ]
     },
     "execution_count": 10,
     "metadata": {},
     "output_type": "execute_result"
    }
   ],
   "source": [
    "data.head(5)"
   ]
  },
  {
   "cell_type": "code",
   "execution_count": 11,
   "metadata": {},
   "outputs": [
    {
     "data": {
      "text/plain": [
       "Survey Offer         140807\n",
       "BroadcastMsg         119547\n",
       "PayConfirmation       64277\n",
       "RefreshFollowUp       61787\n",
       "SMSOrCall             51547\n",
       "PaymentConfSMS        45359\n",
       "ModemResetVerify      36811\n",
       "BillingAlignment      32002\n",
       "Transfer              30519\n",
       "BillingVideoX1SMS     28197\n",
       "UpdatedBalance        26182\n",
       "ModemResetOffer       25368\n",
       "Agent                 21922\n",
       "BillingMenus          20327\n",
       "System Restart        13355\n",
       "SMS Chat Confirm      12982\n",
       "Balance Due           12208\n",
       "Delinquent_1          11758\n",
       "Closed Messages       11620\n",
       "Device Checks          9791\n",
       "Name: REPORTED_NAVIGATION_MODULE_FUNCTION_NM, dtype: int64"
      ]
     },
     "execution_count": 11,
     "metadata": {},
     "output_type": "execute_result"
    }
   ],
   "source": [
    "data.REPORTED_NAVIGATION_MODULE_FUNCTION_NM.value_counts().head(20)"
   ]
  },
  {
   "cell_type": "code",
   "execution_count": 12,
   "metadata": {},
   "outputs": [
    {
     "data": {
      "text/html": [
       "<div>\n",
       "<style scoped>\n",
       "    .dataframe tbody tr th:only-of-type {\n",
       "        vertical-align: middle;\n",
       "    }\n",
       "\n",
       "    .dataframe tbody tr th {\n",
       "        vertical-align: top;\n",
       "    }\n",
       "\n",
       "    .dataframe thead th {\n",
       "        text-align: right;\n",
       "    }\n",
       "</style>\n",
       "<table border=\"1\" class=\"dataframe\">\n",
       "  <thead>\n",
       "    <tr style=\"text-align: right;\">\n",
       "      <th></th>\n",
       "      <th>REPORTED_UTTERANCE_TEXT</th>\n",
       "      <th>IVR_END_STATUS_NM</th>\n",
       "      <th>CUSTOMER_ACCOUNT_ID</th>\n",
       "      <th>IVR_CUSTOMER_MARKET_NM</th>\n",
       "      <th>CALL_DATE</th>\n",
       "      <th>REPORTED_NAVIGATION_MODULE_NM</th>\n",
       "      <th>REPORTED_NAVIGATION_MODULE_FUNCTION_NM</th>\n",
       "      <th>LAST_NON_TRANSFER_MODULE_NM</th>\n",
       "      <th>LAST_NON_TRANSFER_MODULE_FUNCTION_NM</th>\n",
       "      <th>length_of_utterance</th>\n",
       "    </tr>\n",
       "  </thead>\n",
       "  <tbody>\n",
       "    <tr>\n",
       "      <td>0</td>\n",
       "      <td>pay my bill</td>\n",
       "      <td>self_service</td>\n",
       "      <td>480402628</td>\n",
       "      <td>Florida</td>\n",
       "      <td>2020-03-03</td>\n",
       "      <td>PAYMENT</td>\n",
       "      <td>PaymentConfSMS</td>\n",
       "      <td>PAYMENT</td>\n",
       "      <td>PayConfirmation</td>\n",
       "      <td>3</td>\n",
       "    </tr>\n",
       "    <tr>\n",
       "      <td>1</td>\n",
       "      <td>would like my contract</td>\n",
       "      <td>agent</td>\n",
       "      <td>29830704</td>\n",
       "      <td>Portland</td>\n",
       "      <td>2020-03-18</td>\n",
       "      <td>GLOBAL</td>\n",
       "      <td>BroadcastMsg</td>\n",
       "      <td>CALLERINTENT</td>\n",
       "      <td>NLDisambig_Reprompt</td>\n",
       "      <td>4</td>\n",
       "    </tr>\n",
       "    <tr>\n",
       "      <td>2</td>\n",
       "      <td>need to talk to agent</td>\n",
       "      <td>agent</td>\n",
       "      <td>550243294</td>\n",
       "      <td>Keystone</td>\n",
       "      <td>2020-02-29</td>\n",
       "      <td>APPOINTMENT</td>\n",
       "      <td>FutureAppointment</td>\n",
       "      <td>CALLERINTENT</td>\n",
       "      <td>NLDisambig_Reprompt</td>\n",
       "      <td>5</td>\n",
       "    </tr>\n",
       "    <tr>\n",
       "      <td>3</td>\n",
       "      <td>representative</td>\n",
       "      <td>agent</td>\n",
       "      <td>550807015</td>\n",
       "      <td>Nashville</td>\n",
       "      <td>2020-03-20</td>\n",
       "      <td>APPOINTMENT</td>\n",
       "      <td>AppointmentsPI</td>\n",
       "      <td>CALLERINTENT</td>\n",
       "      <td>NLDisambig_Reprompt</td>\n",
       "      <td>1</td>\n",
       "    </tr>\n",
       "    <tr>\n",
       "      <td>4</td>\n",
       "      <td>charges</td>\n",
       "      <td>agent</td>\n",
       "      <td>519773765</td>\n",
       "      <td>Beltway</td>\n",
       "      <td>2020-03-06</td>\n",
       "      <td>BILLING</td>\n",
       "      <td>BillingMenus</td>\n",
       "      <td>BILLING</td>\n",
       "      <td>BillingAgent</td>\n",
       "      <td>1</td>\n",
       "    </tr>\n",
       "  </tbody>\n",
       "</table>\n",
       "</div>"
      ],
      "text/plain": [
       "  REPORTED_UTTERANCE_TEXT IVR_END_STATUS_NM  CUSTOMER_ACCOUNT_ID  \\\n",
       "0             pay my bill      self_service            480402628   \n",
       "1  would like my contract             agent             29830704   \n",
       "2   need to talk to agent             agent            550243294   \n",
       "3          representative             agent            550807015   \n",
       "4                 charges             agent            519773765   \n",
       "\n",
       "  IVR_CUSTOMER_MARKET_NM   CALL_DATE REPORTED_NAVIGATION_MODULE_NM  \\\n",
       "0                Florida  2020-03-03                       PAYMENT   \n",
       "1               Portland  2020-03-18                        GLOBAL   \n",
       "2               Keystone  2020-02-29                   APPOINTMENT   \n",
       "3              Nashville  2020-03-20                   APPOINTMENT   \n",
       "4                Beltway  2020-03-06                       BILLING   \n",
       "\n",
       "  REPORTED_NAVIGATION_MODULE_FUNCTION_NM LAST_NON_TRANSFER_MODULE_NM  \\\n",
       "0                         PaymentConfSMS                     PAYMENT   \n",
       "1                           BroadcastMsg                CALLERINTENT   \n",
       "2                      FutureAppointment                CALLERINTENT   \n",
       "3                         AppointmentsPI                CALLERINTENT   \n",
       "4                           BillingMenus                     BILLING   \n",
       "\n",
       "  LAST_NON_TRANSFER_MODULE_FUNCTION_NM  length_of_utterance  \n",
       "0                      PayConfirmation                    3  \n",
       "1                  NLDisambig_Reprompt                    4  \n",
       "2                  NLDisambig_Reprompt                    5  \n",
       "3                  NLDisambig_Reprompt                    1  \n",
       "4                         BillingAgent                    1  "
      ]
     },
     "execution_count": 12,
     "metadata": {},
     "output_type": "execute_result"
    }
   ],
   "source": [
    "data['length_of_utterance'] = data['REPORTED_UTTERANCE_TEXT'].str.split().apply(len)\n",
    "data.head(5)"
   ]
  },
  {
   "cell_type": "code",
   "execution_count": 13,
   "metadata": {},
   "outputs": [
    {
     "data": {
      "text/html": [
       "<div>\n",
       "<style scoped>\n",
       "    .dataframe tbody tr th:only-of-type {\n",
       "        vertical-align: middle;\n",
       "    }\n",
       "\n",
       "    .dataframe tbody tr th {\n",
       "        vertical-align: top;\n",
       "    }\n",
       "\n",
       "    .dataframe thead th {\n",
       "        text-align: right;\n",
       "    }\n",
       "</style>\n",
       "<table border=\"1\" class=\"dataframe\">\n",
       "  <thead>\n",
       "    <tr style=\"text-align: right;\">\n",
       "      <th></th>\n",
       "      <th>REPORTED_UTTERANCE_TEXT</th>\n",
       "      <th>IVR_END_STATUS_NM</th>\n",
       "      <th>CUSTOMER_ACCOUNT_ID</th>\n",
       "      <th>IVR_CUSTOMER_MARKET_NM</th>\n",
       "      <th>CALL_DATE</th>\n",
       "      <th>REPORTED_NAVIGATION_MODULE_NM</th>\n",
       "      <th>REPORTED_NAVIGATION_MODULE_FUNCTION_NM</th>\n",
       "      <th>LAST_NON_TRANSFER_MODULE_NM</th>\n",
       "      <th>LAST_NON_TRANSFER_MODULE_FUNCTION_NM</th>\n",
       "      <th>length_of_utterance</th>\n",
       "    </tr>\n",
       "  </thead>\n",
       "  <tbody>\n",
       "    <tr>\n",
       "      <td>13</td>\n",
       "      <td>yes</td>\n",
       "      <td>self_service</td>\n",
       "      <td>13691252</td>\n",
       "      <td>GBR</td>\n",
       "      <td>2020-02-24</td>\n",
       "      <td>TECHNICAL</td>\n",
       "      <td>RefreshFollowUp</td>\n",
       "      <td>TECHNICAL</td>\n",
       "      <td>ResetOrRefresh Agent</td>\n",
       "      <td>1</td>\n",
       "    </tr>\n",
       "    <tr>\n",
       "      <td>22</td>\n",
       "      <td>mama t_v screen says</td>\n",
       "      <td>self_service</td>\n",
       "      <td>500364</td>\n",
       "      <td>WNE</td>\n",
       "      <td>2020-02-27</td>\n",
       "      <td>TECHNICAL</td>\n",
       "      <td>RefreshFollowUp</td>\n",
       "      <td>TECHNICAL</td>\n",
       "      <td>RefreshFollowUp</td>\n",
       "      <td>4</td>\n",
       "    </tr>\n",
       "    <tr>\n",
       "      <td>31</td>\n",
       "      <td>um guard cable issues</td>\n",
       "      <td>self_service</td>\n",
       "      <td>550278359</td>\n",
       "      <td>Florida</td>\n",
       "      <td>2020-03-09</td>\n",
       "      <td>TECHNICAL</td>\n",
       "      <td>RefreshFollowUp</td>\n",
       "      <td>TECHNICAL</td>\n",
       "      <td>RefreshFollowUp</td>\n",
       "      <td>4</td>\n",
       "    </tr>\n",
       "    <tr>\n",
       "      <td>42</td>\n",
       "      <td>um no picture on the screen</td>\n",
       "      <td>self_service</td>\n",
       "      <td>35800594</td>\n",
       "      <td>Keystone</td>\n",
       "      <td>2020-03-20</td>\n",
       "      <td>TECHNICAL</td>\n",
       "      <td>RefreshFollowUp</td>\n",
       "      <td>TECHNICAL</td>\n",
       "      <td>RefreshFollowUp</td>\n",
       "      <td>6</td>\n",
       "    </tr>\n",
       "    <tr>\n",
       "      <td>47</td>\n",
       "      <td>yes</td>\n",
       "      <td>self_service</td>\n",
       "      <td>520117488</td>\n",
       "      <td>Mountain West</td>\n",
       "      <td>2020-02-25</td>\n",
       "      <td>TECHNICAL</td>\n",
       "      <td>RefreshFollowUp</td>\n",
       "      <td>TECHNICAL</td>\n",
       "      <td>RefreshFollowUp</td>\n",
       "      <td>1</td>\n",
       "    </tr>\n",
       "  </tbody>\n",
       "</table>\n",
       "</div>"
      ],
      "text/plain": [
       "        REPORTED_UTTERANCE_TEXT IVR_END_STATUS_NM  CUSTOMER_ACCOUNT_ID  \\\n",
       "13                          yes      self_service             13691252   \n",
       "22         mama t_v screen says      self_service               500364   \n",
       "31        um guard cable issues      self_service            550278359   \n",
       "42  um no picture on the screen      self_service             35800594   \n",
       "47                          yes      self_service            520117488   \n",
       "\n",
       "   IVR_CUSTOMER_MARKET_NM   CALL_DATE REPORTED_NAVIGATION_MODULE_NM  \\\n",
       "13                    GBR  2020-02-24                     TECHNICAL   \n",
       "22                    WNE  2020-02-27                     TECHNICAL   \n",
       "31                Florida  2020-03-09                     TECHNICAL   \n",
       "42               Keystone  2020-03-20                     TECHNICAL   \n",
       "47          Mountain West  2020-02-25                     TECHNICAL   \n",
       "\n",
       "   REPORTED_NAVIGATION_MODULE_FUNCTION_NM LAST_NON_TRANSFER_MODULE_NM  \\\n",
       "13                        RefreshFollowUp                   TECHNICAL   \n",
       "22                        RefreshFollowUp                   TECHNICAL   \n",
       "31                        RefreshFollowUp                   TECHNICAL   \n",
       "42                        RefreshFollowUp                   TECHNICAL   \n",
       "47                        RefreshFollowUp                   TECHNICAL   \n",
       "\n",
       "   LAST_NON_TRANSFER_MODULE_FUNCTION_NM  length_of_utterance  \n",
       "13                 ResetOrRefresh Agent                    1  \n",
       "22                      RefreshFollowUp                    4  \n",
       "31                      RefreshFollowUp                    4  \n",
       "42                      RefreshFollowUp                    6  \n",
       "47                      RefreshFollowUp                    1  "
      ]
     },
     "execution_count": 13,
     "metadata": {},
     "output_type": "execute_result"
    }
   ],
   "source": [
    "data = data[data.REPORTED_NAVIGATION_MODULE_FUNCTION_NM == \"RefreshFollowUp\"]\n",
    "data.head(5)"
   ]
  },
  {
   "cell_type": "code",
   "execution_count": 331,
   "metadata": {},
   "outputs": [
    {
     "data": {
      "text/html": [
       "<div>\n",
       "<style scoped>\n",
       "    .dataframe tbody tr th:only-of-type {\n",
       "        vertical-align: middle;\n",
       "    }\n",
       "\n",
       "    .dataframe tbody tr th {\n",
       "        vertical-align: top;\n",
       "    }\n",
       "\n",
       "    .dataframe thead th {\n",
       "        text-align: right;\n",
       "    }\n",
       "</style>\n",
       "<table border=\"1\" class=\"dataframe\">\n",
       "  <thead>\n",
       "    <tr style=\"text-align: right;\">\n",
       "      <th></th>\n",
       "      <th>REPORTED_UTTERANCE_TEXT</th>\n",
       "      <th>IVR_END_STATUS_NM</th>\n",
       "      <th>CUSTOMER_ACCOUNT_ID</th>\n",
       "      <th>IVR_CUSTOMER_MARKET_NM</th>\n",
       "      <th>CALL_DATE</th>\n",
       "      <th>REPORTED_NAVIGATION_MODULE_NM</th>\n",
       "      <th>REPORTED_NAVIGATION_MODULE_FUNCTION_NM</th>\n",
       "      <th>LAST_NON_TRANSFER_MODULE_NM</th>\n",
       "      <th>LAST_NON_TRANSFER_MODULE_FUNCTION_NM</th>\n",
       "      <th>length_of_utterance</th>\n",
       "      <th>sentiment</th>\n",
       "    </tr>\n",
       "  </thead>\n",
       "  <tbody>\n",
       "    <tr>\n",
       "      <td>211</td>\n",
       "      <td>my t_v will not come on</td>\n",
       "      <td>self_service</td>\n",
       "      <td>536202725.0</td>\n",
       "      <td>California</td>\n",
       "      <td>2020-04-30</td>\n",
       "      <td>TECHNICAL</td>\n",
       "      <td>RefreshFollowUp</td>\n",
       "      <td>TECHNICAL</td>\n",
       "      <td>RefreshFollowUp</td>\n",
       "      <td>6</td>\n",
       "      <td>0.000000</td>\n",
       "    </tr>\n",
       "    <tr>\n",
       "      <td>265</td>\n",
       "      <td>i do not have said picture on my t_v there's a picture demand on_demand on every single channel and this is</td>\n",
       "      <td>self_service</td>\n",
       "      <td>19305992.0</td>\n",
       "      <td>Mountain West</td>\n",
       "      <td>2020-04-30</td>\n",
       "      <td>TECHNICAL</td>\n",
       "      <td>RefreshFollowUp</td>\n",
       "      <td>TECHNICAL</td>\n",
       "      <td>RefreshFollowUp</td>\n",
       "      <td>21</td>\n",
       "      <td>-0.071429</td>\n",
       "    </tr>\n",
       "    <tr>\n",
       "      <td>850</td>\n",
       "      <td>have my television doesn't work it just keeps telling we have to check our signal cable and it put</td>\n",
       "      <td>self_service</td>\n",
       "      <td>18922198.0</td>\n",
       "      <td>California</td>\n",
       "      <td>2020-04-30</td>\n",
       "      <td>TECHNICAL</td>\n",
       "      <td>RefreshFollowUp</td>\n",
       "      <td>TECHNICAL</td>\n",
       "      <td>RefreshFollowUp</td>\n",
       "      <td>19</td>\n",
       "      <td>0.000000</td>\n",
       "    </tr>\n",
       "    <tr>\n",
       "      <td>1095</td>\n",
       "      <td>a blue light solid blue come over screen from time time we don't</td>\n",
       "      <td>self_service</td>\n",
       "      <td>324412212.0</td>\n",
       "      <td>California</td>\n",
       "      <td>2020-04-30</td>\n",
       "      <td>TECHNICAL</td>\n",
       "      <td>RefreshFollowUp</td>\n",
       "      <td>TECHNICAL</td>\n",
       "      <td>RefreshFollowUp</td>\n",
       "      <td>13</td>\n",
       "      <td>0.100000</td>\n",
       "    </tr>\n",
       "    <tr>\n",
       "      <td>1148</td>\n",
       "      <td>i have no signal on my television</td>\n",
       "      <td>self_service</td>\n",
       "      <td>691390.0</td>\n",
       "      <td>California</td>\n",
       "      <td>2020-04-30</td>\n",
       "      <td>TECHNICAL</td>\n",
       "      <td>RefreshFollowUp</td>\n",
       "      <td>TECHNICAL</td>\n",
       "      <td>RefreshFollowUp</td>\n",
       "      <td>7</td>\n",
       "      <td>0.000000</td>\n",
       "    </tr>\n",
       "  </tbody>\n",
       "</table>\n",
       "</div>"
      ],
      "text/plain": [
       "                                                                                          REPORTED_UTTERANCE_TEXT  \\\n",
       "211                                                                                       my t_v will not come on   \n",
       "265   i do not have said picture on my t_v there's a picture demand on_demand on every single channel and this is   \n",
       "850            have my television doesn't work it just keeps telling we have to check our signal cable and it put   \n",
       "1095                                             a blue light solid blue come over screen from time time we don't   \n",
       "1148                                                                            i have no signal on my television   \n",
       "\n",
       "     IVR_END_STATUS_NM  CUSTOMER_ACCOUNT_ID IVR_CUSTOMER_MARKET_NM  \\\n",
       "211       self_service          536202725.0             California   \n",
       "265       self_service           19305992.0          Mountain West   \n",
       "850       self_service           18922198.0             California   \n",
       "1095      self_service          324412212.0             California   \n",
       "1148      self_service             691390.0             California   \n",
       "\n",
       "       CALL_DATE REPORTED_NAVIGATION_MODULE_NM  \\\n",
       "211   2020-04-30                     TECHNICAL   \n",
       "265   2020-04-30                     TECHNICAL   \n",
       "850   2020-04-30                     TECHNICAL   \n",
       "1095  2020-04-30                     TECHNICAL   \n",
       "1148  2020-04-30                     TECHNICAL   \n",
       "\n",
       "     REPORTED_NAVIGATION_MODULE_FUNCTION_NM LAST_NON_TRANSFER_MODULE_NM  \\\n",
       "211                         RefreshFollowUp                   TECHNICAL   \n",
       "265                         RefreshFollowUp                   TECHNICAL   \n",
       "850                         RefreshFollowUp                   TECHNICAL   \n",
       "1095                        RefreshFollowUp                   TECHNICAL   \n",
       "1148                        RefreshFollowUp                   TECHNICAL   \n",
       "\n",
       "     LAST_NON_TRANSFER_MODULE_FUNCTION_NM  length_of_utterance  sentiment  \n",
       "211                       RefreshFollowUp                    6   0.000000  \n",
       "265                       RefreshFollowUp                   21  -0.071429  \n",
       "850                       RefreshFollowUp                   19   0.000000  \n",
       "1095                      RefreshFollowUp                   13   0.100000  \n",
       "1148                      RefreshFollowUp                    7   0.000000  "
      ]
     },
     "execution_count": 331,
     "metadata": {},
     "output_type": "execute_result"
    }
   ],
   "source": [
    "#data = data[data.length_of_utterance > 5]\n",
    "#data.head(5)"
   ]
  },
  {
   "cell_type": "code",
   "execution_count": null,
   "metadata": {},
   "outputs": [],
   "source": []
  },
  {
   "cell_type": "code",
   "execution_count": null,
   "metadata": {},
   "outputs": [],
   "source": []
  },
  {
   "cell_type": "code",
   "execution_count": 134,
   "metadata": {},
   "outputs": [],
   "source": [
    "def lemmatize_stemming(text):\n",
    "    return PorterStemmer().stem(WordNetLemmatizer().lemmatize(text, pos='v'))\n",
    "def preprocess(text):\n",
    "    result = []\n",
    "    for token in gensim.utils.simple_preprocess(text):\n",
    "        if token not in gensim.parsing.preprocessing.STOPWORDS and len(token) > 3:\n",
    "            result.append(lemmatize_stemming(token))\n",
    "    return result"
   ]
  },
  {
   "cell_type": "code",
   "execution_count": 135,
   "metadata": {},
   "outputs": [],
   "source": [
    "from gensim.parsing.porter import PorterStemmer\n",
    "def lemmatize_stemming(text):\n",
    "    return PorterStemmer().stem(text)"
   ]
  },
  {
   "cell_type": "code",
   "execution_count": 136,
   "metadata": {},
   "outputs": [
    {
     "data": {
      "text/plain": [
       "12                                []\n",
       "20               [mama, screen, sai]\n",
       "27               [guard, cabl, issu]\n",
       "37                  [pictur, screen]\n",
       "42                                []\n",
       "52     [pictur, screen, black, past]\n",
       "55                                []\n",
       "88           [speak, problem, sound]\n",
       "96                   [have, problem]\n",
       "118                               []\n",
       "126                          [phone]\n",
       "146               [technic, support]\n",
       "181                    [cabl, phone]\n",
       "196                               []\n",
       "225                   [come, signal]\n",
       "261                         [pictur]\n",
       "266                      [t_v, work]\n",
       "295               [technic, support]\n",
       "317                      [t_v, work]\n",
       "322        [live, room, sai, signal]\n",
       "Name: REPORTED_UTTERANCE_TEXT, dtype: object"
      ]
     },
     "execution_count": 136,
     "metadata": {},
     "output_type": "execute_result"
    }
   ],
   "source": [
    "processed_docs = data['REPORTED_UTTERANCE_TEXT'].map(preprocess)\n",
    "processed_docs[:20]"
   ]
  },
  {
   "cell_type": "code",
   "execution_count": 137,
   "metadata": {},
   "outputs": [
    {
     "name": "stdout",
     "output_type": "stream",
     "text": [
      "0 mama\n",
      "1 sai\n",
      "2 screen\n",
      "3 cabl\n",
      "4 guard\n",
      "5 issu\n",
      "6 pictur\n",
      "7 black\n",
      "8 past\n",
      "9 problem\n",
      "10 sound\n"
     ]
    }
   ],
   "source": [
    "dictionary = gensim.corpora.Dictionary(processed_docs)\n",
    "count = 0\n",
    "for k, v in dictionary.iteritems():\n",
    "    print(k, v)\n",
    "    count += 1\n",
    "    if count > 10:\n",
    "        break"
   ]
  },
  {
   "cell_type": "code",
   "execution_count": 138,
   "metadata": {},
   "outputs": [],
   "source": [
    "dictionary.filter_extremes(no_below=5, no_above=0.4, keep_n=10000)"
   ]
  },
  {
   "cell_type": "code",
   "execution_count": 139,
   "metadata": {},
   "outputs": [
    {
     "data": {
      "text/plain": [
       "[(2, 1), (3, 1)]"
      ]
     },
     "execution_count": 139,
     "metadata": {},
     "output_type": "execute_result"
    }
   ],
   "source": [
    "bow_corpus = [dictionary.doc2bow(doc) for doc in processed_docs]\n",
    "bow_corpus[2]"
   ]
  },
  {
   "cell_type": "code",
   "execution_count": 35,
   "metadata": {},
   "outputs": [],
   "source": [
    "bow_doc_1 = bow_corpus[100]\n",
    "for i in range(len(bow_doc_1)):\n",
    "    print(\"Word {} (\\\"{}\\\") appears {} time.\".format(bow_doc_1[i][0], \n",
    "                                               dictionary[bow_doc_1[i][0]], \n",
    "bow_doc_1[i][1]))"
   ]
  },
  {
   "cell_type": "code",
   "execution_count": 36,
   "metadata": {},
   "outputs": [
    {
     "name": "stdout",
     "output_type": "stream",
     "text": [
      "Topic: 0 \n",
      "Words: 0.307*\"cabl\" + 0.143*\"problem\" + 0.136*\"work\" + 0.055*\"connect\"\n",
      "Topic: 1 \n",
      "Words: 0.241*\"servic\" + 0.081*\"troubl\" + 0.050*\"tech\" + 0.042*\"have\"\n",
      "Topic: 2 \n",
      "Words: 0.316*\"technic\" + 0.259*\"support\" + 0.070*\"need\" + 0.050*\"pictur\"\n",
      "Topic: 3 \n",
      "Words: 0.225*\"work\" + 0.173*\"signal\" + 0.130*\"televis\" + 0.060*\"t_v\"\n",
      "Topic: 4 \n",
      "Words: 0.174*\"channel\" + 0.062*\"issu\" + 0.055*\"yeah\" + 0.049*\"chang\"\n"
     ]
    }
   ],
   "source": [
    "#LDA using bag of words\n",
    "lda_model = gensim.models.LdaMulticore(bow_corpus, num_topics=5, id2word=dictionary, passes=2, workers=2)\n",
    "for idx, topic in lda_model.print_topics(5,4):\n",
    "    print('Topic: {} \\nWords: {}'.format(idx, topic))"
   ]
  },
  {
   "cell_type": "code",
   "execution_count": null,
   "metadata": {},
   "outputs": [],
   "source": [
    "#LDA using bag of words\n",
    "lda_model = gensim.models.LdaMulticore(bow_corpus, num_topics=20, id2word=dictionary, passes=2, workers=2)\n",
    "for idx, topic in lda_model.print_topics(20,4):\n",
    "    print('Topic: {} \\nWords: {}'.format(idx, topic))"
   ]
  },
  {
   "cell_type": "code",
   "execution_count": 158,
   "metadata": {},
   "outputs": [
    {
     "data": {
      "image/png": "[encoded data removed]",
      "text/plain": [
       "<Figure size 720x720 with 1 Axes>"
      ]
     },
     "metadata": {
      "needs_background": "light"
     },
     "output_type": "display_data"
    }
   ],
   "source": [
    "comment_words = ' '\n",
    "stopwords = set(STOPWORDS) \n",
    "#Specify a list of stop words to remove\n",
    "more_stops=['I','say','wanna','hello','na','gon','get','uh','right','guy','still','come','say','someth','mean','um','oh','yes','bye','great','yeah','no','sorry','ok','okay','thank','like','alright','know','a',\n",
    " 'about','above','after','again','against','all','also','am','an','and','any','are',\"aren't\",'as', 'at','be','because','been','before','being','below','between','both','but','by','can',\"can't\",\n",
    "            'cannot','com','could',\"couldn't\",'did', 'ye','my','pai','finity',\n",
    "            \"didn't\",'do','does', \"doesn't\",'doing',\"don't\",'down','during','each','else','ever', 'few','for','from','further','get','had',\"hadn't\",'has',\"hasn't\",'have',\"haven't\",\n",
    "'having','he',\"he'd\",\"he'll\",\"he's\",'her','here',\"here's\",'hers','herself','him','himself','his','how',\"how's\",'however','http','i',\"i'd\",\"i'll\",\"i'm\",\"i've\",'if','in','into','is',\"isn't\",\n",
    " 'it',\"it's\",'its','itself','just','k',\"let's\",'like','me','more','most',\"mustn't\",'my','myself','no','nor','not','of','off','on','once','only','or','other','otherwise','ought','our','ours','ourselves',\n",
    "            'out','over','own','r','same',\n",
    "            'shall',\"shan't\",'she',\"she'd\",\"she'll\",\"she's\",\n",
    " 'should',\"shouldn't\",'since','so','some','such','than','that',\"that's\",'the','their','theirs','them','themselves','then','there',\"there's\",'these','they',\"they'd\",\"they'll\",\"they're\",\"they've\",'this','those',\n",
    "            'through','to',\n",
    " 'too','under','until','up','very','was','said',\"wasn't\",'we','got', \"we'd\",\"we'll\",\"we're\",\"we've\",'were',\"weren't\",'what',\"what's\",'when',\"when's\",'where',\"where's\",'which','while','who',\"who's\",'whom',\n",
    "'why',\"why's\",'with',\"won't\",'would',\"wouldn't\",'www','you',\"you'd\",\"you'll\",\"you're\",\"you've\",'your','yours','yourself','yourselves','going','see','nothing','well','one','want', 'us', 'for', 'am', 'say', 'and', 'been',\n",
    "              'someone', 'that', 'so', 'for', 'why', 'am', 'or', 'else', 'main', 'if', 'need', 'do',\n",
    "              'know', 'want', 'them', 'back', 'will', 'all', 'keep', 'a', 's', 'too', 'at', 'way', 'with',\n",
    "              'when', 'we', 'with', 'since', 'at', 'does', 're', 'when', 'give', 'talk', 'got',\n",
    "              'them', 'someone', 'told', 'back', 'way', 'is', 'too', 'its', 'much', 'going', 'keeps',\n",
    "              'goes', 'every', 'went', 'and', 'been', 'with', 'some', 've', 'we', 'a', 'had', 'and'\n",
    "    , 'went', 'on', 'all', 'see', 'make', 'say', 'us', 's', 'came','lot','able','takes','think','it','i','try','bit','for',\n",
    "             'thats','much','getting','really','now','t','turn','for','me',' t','it','getting','now',' me',' t','  t','much',\n",
    "             'days','now','thought','thats','fact','looking','choose','thing','enough','overall','fine','far',\n",
    "             'everytime','whenever','always','long','alot','needed','recently','wish','done','usually',\n",
    "              'sometimes','pretty','month','year','im','change','hold','trying','l','1','ou','d','putting','put',\n",
    "              'didnt','comes','come','needs','need','seems','seem','tried','try','mostly','sure','certain',\n",
    "              'cant','can','wanted','want','changes','change','last','first','several','couple','took','take','times',\n",
    "              'prices','paying','though','thought','feel','live','another','depends','choices',\n",
    "              'day','minute','minutes','everything','options','better','compared','calling','quickly','week',\n",
    "              'speak','hours','person','day','faster','less','ten','show','night','theres','part','yet','number',\n",
    "              'ive','weeks','asked','ask','stuff','little','almost','beleive','believe','dont','somebody',\n",
    "              'using', 'never','happens','three','five','two','ago','constantly','basically','around','used',\n",
    "              'others','probably','quite','except','everyone','lost','extremely','higher','wait','tell','kind',\n",
    "              'end','something','others','job','months','wrong','check','lately','even','provide',\n",
    "              'job','changing','everybody','second','gets','many','find','supposed','without','taken','gone','cuts',\n",
    "              'called','use','many','guys','things','whole','anymore','big','understand','rip','realized','robert','kyle','curtis','letting',\n",
    "              'becoming','depend','elsewhere','effect','letting','tells','sixth','st','stating','st','somehow','frankly','body','originally','op','must'\n",
    "              ,'automatically','steve','fi','include','anyways'] \n",
    "\n",
    "stop_words = set(nltk.corpus.stopwords.words('english')+more_stops)\n",
    "\n",
    "\n",
    "# iterate through the csv file \n",
    "for val in data.REPORTED_UTTERANCE_TEXT: \n",
    "      \n",
    "    # typecaste each val to string \n",
    "    val = str(val) \n",
    "  \n",
    "    # split the value \n",
    "    tokens = val.split() \n",
    "      \n",
    "    # Converts each token into lowercase \n",
    "    for i in range(len(tokens)): \n",
    "        tokens[i] = tokens[i].lower() \n",
    "          \n",
    "    for words in tokens: \n",
    "        comment_words = comment_words + words + ' '\n",
    "  \n",
    "  \n",
    "wordcloud = WordCloud(width = 500, height = 500, \n",
    "                background_color ='white', \n",
    "                stopwords = stop_words, \n",
    "                min_font_size = 10).generate(comment_words) \n",
    "  \n",
    "# plot the WordCloud image                        \n",
    "plt.figure(figsize = (10, 10), facecolor = None) \n",
    "plt.imshow(wordcloud) \n",
    "plt.axis(\"off\") \n",
    "plt.tight_layout(pad = 0)\n",
    "plt.show() "
   ]
  },
  {
   "cell_type": "code",
   "execution_count": 146,
   "metadata": {},
   "outputs": [],
   "source": [
    "import gensim\n",
    "import gensim.corpora as corpora\n",
    "from gensim.utils import simple_preprocess\n",
    "from gensim.models import CoherenceModel\n",
    "import spacy\n",
    "import pyLDAvis\n",
    "import pyLDAvis.gensim  # don't skip this\n",
    "import matplotlib.pyplot as plt\n",
    "%matplotlib inline"
   ]
  },
  {
   "cell_type": "code",
   "execution_count": 143,
   "metadata": {},
   "outputs": [
    {
     "name": "stdout",
     "output_type": "stream",
     "text": [
      "['my t_v will not come on',\n",
      " 'i do not have said picture on my t_v theres a picture demand on_demand on '\n",
      " 'every single channel and this is']\n"
     ]
    }
   ],
   "source": [
    "# Convert to list\n",
    "data = data.REPORTED_UTTERANCE_TEXT.values.tolist()\n",
    "\n",
    "# Remove Emails\n",
    "data = [re.sub('\\S*@\\S*\\s?', '', sent) for sent in data]\n",
    "\n",
    "# Remove new line characters\n",
    "data = [re.sub('\\s+', ' ', sent) for sent in data]\n",
    "\n",
    "# Remove distracting single quotes\n",
    "data = [re.sub(\"\\'\", \"\", sent) for sent in data]\n",
    "\n",
    "pprint(data[:2])"
   ]
  },
  {
   "cell_type": "code",
   "execution_count": 144,
   "metadata": {},
   "outputs": [
    {
     "name": "stdout",
     "output_type": "stream",
     "text": [
      "[['my', 't_v', 'will', 'not', 'come', 'on']]\n"
     ]
    }
   ],
   "source": [
    "def sent_to_words(sentences):\n",
    "    for sentence in sentences:\n",
    "        yield(gensim.utils.simple_preprocess(str(sentence), deacc=True))  # deacc=True removes punctuations\n",
    "\n",
    "data_words = list(sent_to_words(data))\n",
    "\n",
    "print(data_words[:1])"
   ]
  },
  {
   "cell_type": "code",
   "execution_count": 149,
   "metadata": {},
   "outputs": [
    {
     "name": "stdout",
     "output_type": "stream",
     "text": [
      "['do', 'not', 'have', 'said', 'picture', 'on', 'my', 't_v', 'theres', 'picture', 'demand', 'on_demand', 'on', 'every', 'single', 'channel', 'and', 'this', 'is']\n"
     ]
    }
   ],
   "source": [
    "# Build the bigram and trigram models\n",
    "bigram = gensim.models.Phrases(data_words, min_count=5, threshold=100) # higher threshold fewer phrases.\n",
    "trigram = gensim.models.Phrases(bigram[data_words], threshold=100)  \n",
    "\n",
    "# Faster way to get a sentence clubbed as a trigram/bigram\n",
    "bigram_mod = gensim.models.phrases.Phraser(bigram)\n",
    "trigram_mod = gensim.models.phrases.Phraser(trigram)\n",
    "\n",
    "# See trigram example\n",
    "print(trigram_mod[bigram_mod[data_words[1]]])"
   ]
  },
  {
   "cell_type": "code",
   "execution_count": 150,
   "metadata": {},
   "outputs": [],
   "source": [
    "def remove_stopwords(texts):\n",
    "    return [[word for word in simple_preprocess(str(doc)) if word not in stop_words] for doc in texts]\n",
    "\n",
    "def make_bigrams(texts):\n",
    "    return [bigram_mod[doc] for doc in texts]\n",
    "\n",
    "def make_trigrams(texts):\n",
    "    return [trigram_mod[bigram_mod[doc]] for doc in texts]\n",
    "\n",
    "def lemmatization(texts, allowed_postags=['NOUN', 'ADJ', 'VERB', 'ADV']):\n",
    "    \"\"\"https://spacy.io/api/annotation\"\"\"\n",
    "    texts_out = []\n",
    "    for sent in texts:\n",
    "        doc = nlp(\" \".join(sent)) \n",
    "        texts_out.append([token.lemma_ for token in doc if token.pos_ in allowed_postags])\n",
    "    return texts_out"
   ]
  },
  {
   "cell_type": "code",
   "execution_count": null,
   "metadata": {},
   "outputs": [],
   "source": [
    "# Remove Stop Words\n",
    "data_words_nostops = remove_stopwords(data_words)\n",
    "\n",
    "# Form Bigrams\n",
    "data_words_bigrams = make_bigrams(data_words_nostops)\n",
    "\n",
    "# Initialize spacy 'en' model, keeping only tagger component (for efficiency)\n",
    "# python3 -m spacy download en\n",
    "nlp = spacy.load('en', disable=['parser', 'ner'])\n",
    "\n",
    "# Do lemmatization keeping only noun, adj, vb, adv\n",
    "data_lemmatized = lemmatization(data_words_bigrams, allowed_postags=['NOUN', 'ADJ', 'VERB', 'ADV'])\n",
    "\n",
    "print(data_lemmatized[:2])"
   ]
  },
  {
   "cell_type": "code",
   "execution_count": 152,
   "metadata": {},
   "outputs": [
    {
     "data": {
      "text/plain": [
       "list"
      ]
     },
     "execution_count": 152,
     "metadata": {},
     "output_type": "execute_result"
    }
   ],
   "source": [
    "type(data_words_bigrams)"
   ]
  },
  {
   "cell_type": "code",
   "execution_count": 153,
   "metadata": {},
   "outputs": [
    {
     "name": "stdout",
     "output_type": "stream",
     "text": [
      "[[]]\n"
     ]
    }
   ],
   "source": [
    "# Create Dictionary\n",
    "id2word = corpora.Dictionary(data_lemmatized)\n",
    "\n",
    "# Create Corpus\n",
    "texts = data_lemmatized\n",
    "\n",
    "# Term Document Frequency\n",
    "corpus = [id2word.doc2bow(text) for text in texts]\n",
    "\n",
    "# View\n",
    "print(corpus[:1])"
   ]
  },
  {
   "cell_type": "code",
   "execution_count": 154,
   "metadata": {},
   "outputs": [
    {
     "data": {
      "text/plain": [
       "[[]]"
      ]
     },
     "execution_count": 154,
     "metadata": {},
     "output_type": "execute_result"
    }
   ],
   "source": [
    "[[(id2word[id], freq) for id, freq in cp] for cp in corpus[:1]]"
   ]
  },
  {
   "cell_type": "code",
   "execution_count": 155,
   "metadata": {},
   "outputs": [],
   "source": [
    "# Build LDA model\n",
    "lda_model = gensim.models.ldamodel.LdaModel(corpus=corpus,\n",
    "                                           id2word=id2word,\n",
    "                                           num_topics=10, \n",
    "                                           random_state=100,\n",
    "                                           update_every=1,\n",
    "                                           chunksize=100,\n",
    "                                           passes=5,\n",
    "                                           alpha='auto',\n",
    "                                           per_word_topics=True)"
   ]
  },
  {
   "cell_type": "code",
   "execution_count": 156,
   "metadata": {},
   "outputs": [
    {
     "name": "stdout",
     "output_type": "stream",
     "text": [
      "[(0,\n",
      "  '0.625*\"cable\" + 0.273*\"problem\" + 0.020*\"audio\" + 0.014*\"record\" + '\n",
      "  '0.008*\"blue\" + 0.007*\"slow\" + 0.006*\"line\" + 0.005*\"loss\" + 0.004*\"cutting\" '\n",
      "  '+ 0.003*\"acting\"'),\n",
      " (1,\n",
      "  '0.214*\"signal\" + 0.132*\"issue\" + 0.126*\"internet\" + 0.052*\"bedroom\" + '\n",
      "  '0.046*\"station\" + 0.040*\"receive\" + 0.039*\"come\" + 0.039*\"set\" + '\n",
      "  '0.036*\"send\" + 0.028*\"reset\"'),\n",
      " (2,\n",
      "  '0.323*\"channel\" + 0.297*\"working\" + 0.165*\"trouble\" + 0.029*\"miss\" + '\n",
      "  '0.026*\"frozen\" + 0.016*\"lock\" + 0.011*\"available\" + 0.010*\"remove\" + '\n",
      "  '0.010*\"stop\" + 0.009*\"unable\"'),\n",
      " (3,\n",
      "  '0.430*\"service\" + 0.104*\"tech\" + 0.078*\"help\" + 0.064*\"agent\" + '\n",
      "  '0.046*\"message\" + 0.043*\"customer\" + 0.037*\"room\" + 0.035*\"code\" + '\n",
      "  '0.018*\"restore\" + 0.014*\"status\"'),\n",
      " (4,\n",
      "  '0.407*\"television\" + 0.103*\"say\" + 0.082*\"difficulty\" + 0.041*\"billing\" + '\n",
      "  '0.034*\"fix\" + 0.034*\"movie\" + 0.033*\"question\" + 0.032*\"assistance\" + '\n",
      "  '0.024*\"bill\" + 0.024*\"repair\"'),\n",
      " (5,\n",
      "  '0.528*\"box\" + 0.078*\"new\" + 0.057*\"add\" + 0.048*\"properly\" + 0.032*\"pay\" + '\n",
      "  '0.029*\"account\" + 0.020*\"stick\" + 0.016*\"top\" + 0.012*\"equipment\" + '\n",
      "  '0.011*\"infinity\"'),\n",
      " (6,\n",
      "  '0.492*\"picture\" + 0.186*\"screen\" + 0.051*\"volume\" + 0.042*\"freeze\" + '\n",
      "  '0.025*\"black\" + 0.014*\"hear\" + 0.013*\"snow\" + 0.011*\"pixelate\" + '\n",
      "  '0.010*\"voice\" + 0.010*\"center\"'),\n",
      " (7,\n",
      "  '0.260*\"will\" + 0.181*\"outage\" + 0.132*\"phone\" + 0.109*\"connectivity\" + '\n",
      "  '0.052*\"break\" + 0.042*\"would\" + 0.029*\"computer\" + 0.021*\"correctly\" + '\n",
      "  '0.020*\"setup\" + 0.016*\"ring\"'),\n",
      " (8,\n",
      "  '0.567*\"work\" + 0.089*\"sound\" + 0.056*\"connection\" + 0.046*\"t_v\" + '\n",
      "  '0.038*\"reception\" + 0.032*\"error\" + 0.019*\"show\" + 0.018*\"call\" + '\n",
      "  '0.013*\"program\" + 0.011*\"turn\"'),\n",
      " (9,\n",
      "  '0.477*\"technical\" + 0.450*\"support\" + 0.028*\"connect\" + '\n",
      "  '0.013*\"representative\" + 0.011*\"video\" + 0.009*\"recording\" + '\n",
      "  '0.002*\"different\" + 0.001*\"tomorrow\" + 0.001*\"smart\" + 0.000*\"speak\"')]\n"
     ]
    }
   ],
   "source": [
    "pprint(lda_model.print_topics())\n",
    "doc_lda = lda_model[corpus]"
   ]
  },
  {
   "cell_type": "code",
   "execution_count": 157,
   "metadata": {},
   "outputs": [
    {
     "name": "stdout",
     "output_type": "stream",
     "text": [
      "\n",
      "Perplexity:  -4.523758818488958\n",
      "\n",
      "Coherence Score:  0.5491436461719041\n"
     ]
    }
   ],
   "source": [
    "#model evaluation\n",
    "print('\\nPerplexity: ', lda_model.log_perplexity(corpus))  # a measure of how good the model is. lower the better.\n",
    "coherence_model_lda = CoherenceModel(model=lda_model, texts=data_lemmatized, dictionary=id2word, coherence='c_v')\n",
    "coherence_lda = coherence_model_lda.get_coherence()\n",
    "print('\\nCoherence Score: ', coherence_lda)"
   ]
  },
  {
   "cell_type": "code",
   "execution_count": null,
   "metadata": {},
   "outputs": [],
   "source": [
    "lda_model.top_topics(bow_corpus)"
   ]
  },
  {
   "cell_type": "raw",
   "metadata": {},
   "source": [
    "##Sentiment Scoring"
   ]
  },
  {
   "cell_type": "code",
   "execution_count": null,
   "metadata": {},
   "outputs": [],
   "source": [
    "# Visualize the topics\n",
    "pyLDAvis.enable_notebook()\n",
    "vis = pyLDAvis.gensim.prepare(lda_model, corpus, id2word)\n",
    "vis"
   ]
  },
  {
   "cell_type": "code",
   "execution_count": 464,
   "metadata": {},
   "outputs": [],
   "source": [
    "from textblob import TextBlob"
   ]
  },
  {
   "cell_type": "code",
   "execution_count": 481,
   "metadata": {},
   "outputs": [],
   "source": [
    "data['sentiment'] = data['REPORTED_UTTERANCE_TEXT'].apply(lambda text: TextBlob(text).sentiment.polarity)"
   ]
  },
  {
   "cell_type": "code",
   "execution_count": 482,
   "metadata": {},
   "outputs": [
    {
     "data": {
      "text/plain": [
       " 0.000000    55058\n",
       "-0.200000     2348\n",
       " 0.400000      622\n",
       " 0.136364      417\n",
       "-0.500000      273\n",
       "             ...  \n",
       "-0.012500        1\n",
       "-0.138095        1\n",
       " 0.039057        1\n",
       " 0.433333        1\n",
       " 0.080357        1\n",
       "Name: sentiment, Length: 280, dtype: int64"
      ]
     },
     "execution_count": 482,
     "metadata": {},
     "output_type": "execute_result"
    }
   ],
   "source": [
    "data['sentiment'].value_counts()"
   ]
  },
  {
   "cell_type": "code",
   "execution_count": 483,
   "metadata": {},
   "outputs": [
    {
     "data": {
      "text/html": [
       "<div>\n",
       "<style scoped>\n",
       "    .dataframe tbody tr th:only-of-type {\n",
       "        vertical-align: middle;\n",
       "    }\n",
       "\n",
       "    .dataframe tbody tr th {\n",
       "        vertical-align: top;\n",
       "    }\n",
       "\n",
       "    .dataframe thead th {\n",
       "        text-align: right;\n",
       "    }\n",
       "</style>\n",
       "<table border=\"1\" class=\"dataframe\">\n",
       "  <thead>\n",
       "    <tr style=\"text-align: right;\">\n",
       "      <th></th>\n",
       "      <th>REPORTED_UTTERANCE_TEXT</th>\n",
       "      <th>sentiment</th>\n",
       "    </tr>\n",
       "  </thead>\n",
       "  <tbody>\n",
       "    <tr>\n",
       "      <td>212704</td>\n",
       "      <td>had new internet service t_v</td>\n",
       "      <td>0.136364</td>\n",
       "    </tr>\n",
       "    <tr>\n",
       "      <td>248961</td>\n",
       "      <td>more services out</td>\n",
       "      <td>0.500000</td>\n",
       "    </tr>\n",
       "    <tr>\n",
       "      <td>166264</td>\n",
       "      <td>aren't receiving something not quite right with an error code need technical support</td>\n",
       "      <td>0.142857</td>\n",
       "    </tr>\n",
       "    <tr>\n",
       "      <td>634722</td>\n",
       "      <td>yes the picture and the sound not get my t_v</td>\n",
       "      <td>0.400000</td>\n",
       "    </tr>\n",
       "    <tr>\n",
       "      <td>906788</td>\n",
       "      <td>new internet no t_v</td>\n",
       "      <td>0.136364</td>\n",
       "    </tr>\n",
       "    <tr>\n",
       "      <td>178431</td>\n",
       "      <td>uh i'm having i have a better fire my t_v and i have a picture but it varies small picture</td>\n",
       "      <td>0.125000</td>\n",
       "    </tr>\n",
       "    <tr>\n",
       "      <td>506217</td>\n",
       "      <td>my service is not working on the t_v its been off for three hours of more</td>\n",
       "      <td>0.500000</td>\n",
       "    </tr>\n",
       "    <tr>\n",
       "      <td>231815</td>\n",
       "      <td>i have no signal on my main t_v in living room</td>\n",
       "      <td>0.166667</td>\n",
       "    </tr>\n",
       "    <tr>\n",
       "      <td>771455</td>\n",
       "      <td>i'm handicapped light on but i needed</td>\n",
       "      <td>0.400000</td>\n",
       "    </tr>\n",
       "    <tr>\n",
       "      <td>294038</td>\n",
       "      <td>my t_v is not working right there's most of fixing this channel is coming from my</td>\n",
       "      <td>0.392857</td>\n",
       "    </tr>\n",
       "  </tbody>\n",
       "</table>\n",
       "</div>"
      ],
      "text/plain": [
       "                                                                           REPORTED_UTTERANCE_TEXT  \\\n",
       "212704                                                                had new internet service t_v   \n",
       "248961                                                                           more services out   \n",
       "166264        aren't receiving something not quite right with an error code need technical support   \n",
       "634722                                                yes the picture and the sound not get my t_v   \n",
       "906788                                                                         new internet no t_v   \n",
       "178431  uh i'm having i have a better fire my t_v and i have a picture but it varies small picture   \n",
       "506217                   my service is not working on the t_v its been off for three hours of more   \n",
       "231815                                              i have no signal on my main t_v in living room   \n",
       "771455                                                       i'm handicapped light on but i needed   \n",
       "294038           my t_v is not working right there's most of fixing this channel is coming from my   \n",
       "\n",
       "        sentiment  \n",
       "212704   0.136364  \n",
       "248961   0.500000  \n",
       "166264   0.142857  \n",
       "634722   0.400000  \n",
       "906788   0.136364  \n",
       "178431   0.125000  \n",
       "506217   0.500000  \n",
       "231815   0.166667  \n",
       "771455   0.400000  \n",
       "294038   0.392857  "
      ]
     },
     "execution_count": 483,
     "metadata": {},
     "output_type": "execute_result"
    }
   ],
   "source": [
    "#positive utternaces\n",
    "data[[\"REPORTED_UTTERANCE_TEXT\",\"sentiment\"]].loc[(data['sentiment'] > 0)].sample(10)"
   ]
  },
  {
   "cell_type": "code",
   "execution_count": 484,
   "metadata": {},
   "outputs": [
    {
     "data": {
      "text/html": [
       "<div>\n",
       "<style scoped>\n",
       "    .dataframe tbody tr th:only-of-type {\n",
       "        vertical-align: middle;\n",
       "    }\n",
       "\n",
       "    .dataframe tbody tr th {\n",
       "        vertical-align: top;\n",
       "    }\n",
       "\n",
       "    .dataframe thead th {\n",
       "        text-align: right;\n",
       "    }\n",
       "</style>\n",
       "<table border=\"1\" class=\"dataframe\">\n",
       "  <thead>\n",
       "    <tr style=\"text-align: right;\">\n",
       "      <th></th>\n",
       "      <th>REPORTED_UTTERANCE_TEXT</th>\n",
       "      <th>sentiment</th>\n",
       "    </tr>\n",
       "  </thead>\n",
       "  <tbody>\n",
       "    <tr>\n",
       "      <td>915249</td>\n",
       "      <td>black screen t_v</td>\n",
       "      <td>-0.166667</td>\n",
       "    </tr>\n",
       "    <tr>\n",
       "      <td>628063</td>\n",
       "      <td>i am unable to change the channels</td>\n",
       "      <td>-0.500000</td>\n",
       "    </tr>\n",
       "    <tr>\n",
       "      <td>194293</td>\n",
       "      <td>something wrong with the t_v box because out what i put my t_v says sorry we're having some trouble</td>\n",
       "      <td>-0.400000</td>\n",
       "    </tr>\n",
       "    <tr>\n",
       "      <td>529915</td>\n",
       "      <td>cable down</td>\n",
       "      <td>-0.155556</td>\n",
       "    </tr>\n",
       "    <tr>\n",
       "      <td>737226</td>\n",
       "      <td>picture reception is awful</td>\n",
       "      <td>-1.000000</td>\n",
       "    </tr>\n",
       "    <tr>\n",
       "      <td>442243</td>\n",
       "      <td>no sound on t_v</td>\n",
       "      <td>-0.200000</td>\n",
       "    </tr>\n",
       "    <tr>\n",
       "      <td>179663</td>\n",
       "      <td>i'm having trouble what my television</td>\n",
       "      <td>-0.200000</td>\n",
       "    </tr>\n",
       "    <tr>\n",
       "      <td>311445</td>\n",
       "      <td>i'm trying to setup my remote quit my t_v</td>\n",
       "      <td>-0.100000</td>\n",
       "    </tr>\n",
       "    <tr>\n",
       "      <td>441115</td>\n",
       "      <td>because i have no sound on my t_v</td>\n",
       "      <td>-0.200000</td>\n",
       "    </tr>\n",
       "    <tr>\n",
       "      <td>240423</td>\n",
       "      <td>my television is back on output few minutes ago it said i wanted in title to use the x</td>\n",
       "      <td>-0.100000</td>\n",
       "    </tr>\n",
       "  </tbody>\n",
       "</table>\n",
       "</div>"
      ],
      "text/plain": [
       "                                                                                    REPORTED_UTTERANCE_TEXT  \\\n",
       "915249                                                                                     black screen t_v   \n",
       "628063                                                                   i am unable to change the channels   \n",
       "194293  something wrong with the t_v box because out what i put my t_v says sorry we're having some trouble   \n",
       "529915                                                                                           cable down   \n",
       "737226                                                                           picture reception is awful   \n",
       "442243                                                                                      no sound on t_v   \n",
       "179663                                                                i'm having trouble what my television   \n",
       "311445                                                            i'm trying to setup my remote quit my t_v   \n",
       "441115                                                                    because i have no sound on my t_v   \n",
       "240423               my television is back on output few minutes ago it said i wanted in title to use the x   \n",
       "\n",
       "        sentiment  \n",
       "915249  -0.166667  \n",
       "628063  -0.500000  \n",
       "194293  -0.400000  \n",
       "529915  -0.155556  \n",
       "737226  -1.000000  \n",
       "442243  -0.200000  \n",
       "179663  -0.200000  \n",
       "311445  -0.100000  \n",
       "441115  -0.200000  \n",
       "240423  -0.100000  "
      ]
     },
     "execution_count": 484,
     "metadata": {},
     "output_type": "execute_result"
    }
   ],
   "source": [
    "#negative utterances\n",
    "data[[\"REPORTED_UTTERANCE_TEXT\",\"sentiment\"]].loc[(data['sentiment'] < 0)].sample(10)"
   ]
  },
  {
   "cell_type": "markdown",
   "metadata": {},
   "source": [
    "AutoEncoder to detect Anomaly utterances"
   ]
  },
  {
   "cell_type": "code",
   "execution_count": 92,
   "metadata": {},
   "outputs": [],
   "source": [
    "from gensim import utils\n",
    "import gensim.parsing.preprocessing as gsp\n",
    "\n",
    "filters = [\n",
    "           gsp.strip_tags, \n",
    "           gsp.strip_punctuation,\n",
    "           gsp.strip_multiple_whitespaces,\n",
    "           gsp.strip_numeric,\n",
    "           gsp.remove_stopwords, \n",
    "           gsp.strip_short, \n",
    "           gsp.stem_text,\n",
    "          ]\n",
    "\n",
    "def clean_text(s):\n",
    "    s = s.lower()\n",
    "    s = utils.to_unicode(s)\n",
    "    for f in filters:\n",
    "        if f not in stop_words:\n",
    "            s = f(s)\n",
    "    return s"
   ]
  },
  {
   "cell_type": "code",
   "execution_count": 93,
   "metadata": {},
   "outputs": [],
   "source": [
    "from collections import Counter\n",
    "\n",
    "aggregate_counter = Counter()\n",
    "for row_index,row in data.iterrows():\n",
    "    c = Counter(row['REPORTED_UTTERANCE_TEXT'].split())\n",
    "    aggregate_counter += c\n",
    "\n",
    "common_words = [word[0] for word in aggregate_counter.most_common(50)]\n",
    "common_words_counts = [word[1] for word in aggregate_counter.most_common(50)]"
   ]
  },
  {
   "cell_type": "code",
   "execution_count": 94,
   "metadata": {},
   "outputs": [],
   "source": [
    "data['REPORTED_UTTERANCE_TEXT'] = data['REPORTED_UTTERANCE_TEXT'].map(lambda x: clean_text(x))"
   ]
  },
  {
   "cell_type": "code",
   "execution_count": 95,
   "metadata": {},
   "outputs": [],
   "source": [
    "import matplotlib.pyplot as plt\n",
    "import seaborn as sns\n",
    "\n",
    "def barplot(words, words_counts, title):\n",
    "    fig = plt.figure(figsize=(18,6))\n",
    "    bar_plot = sns.barplot(x=words, y=words_counts)\n",
    "    for item in bar_plot.get_xticklabels():\n",
    "        item.set_rotation(90)\n",
    "    plt.title(title)\n",
    "    plt.show()"
   ]
  },
  {
   "cell_type": "code",
   "execution_count": 96,
   "metadata": {},
   "outputs": [
    {
     "data": {
      "image/png": "[encoded data removed]",
      "text/plain": [
       "<Figure size 1296x432 with 1 Axes>"
      ]
     },
     "metadata": {
      "needs_background": "light"
     },
     "output_type": "display_data"
    }
   ],
   "source": [
    "barplot(words=common_words, words_counts=common_words_counts, title='Most Frequently Words used in IVR')"
   ]
  },
  {
   "cell_type": "code",
   "execution_count": 97,
   "metadata": {},
   "outputs": [],
   "source": [
    "from itertools import islice\n",
    "\n",
    "def key_word_counter(tupple):\n",
    "    return tupple[1]\n",
    "\n",
    "all_word_counts = sorted(aggregate_counter.items(), key=key_word_counter)\n",
    "uncommon_words = [word[0] for word in islice(all_word_counts, 50)]\n",
    "uncommon_word_counts = [word[1] for word in islice(all_word_counts, 50)]  "
   ]
  },
  {
   "cell_type": "code",
   "execution_count": 98,
   "metadata": {},
   "outputs": [
    {
     "data": {
      "image/png": "[encoded data removed]",
      "text/plain": [
       "<Figure size 1296x432 with 1 Axes>"
      ]
     },
     "metadata": {
      "needs_background": "light"
     },
     "output_type": "display_data"
    }
   ],
   "source": [
    "barplot(words=uncommon_words, words_counts=uncommon_word_counts, title='Least Frequent Words used in IVR utterances')"
   ]
  },
  {
   "cell_type": "code",
   "execution_count": 14,
   "metadata": {},
   "outputs": [],
   "source": [
    "#text documents to word vector\n",
    "from gensim.models.doc2vec import TaggedDocument, Doc2Vec\n",
    "from gensim.parsing.preprocessing import preprocess_string\n",
    "from sklearn.base import BaseEstimator\n",
    "from sklearn import utils as skl_utils\n",
    "from tqdm import tqdm\n",
    "\n",
    "import multiprocessing\n",
    "import numpy as np\n",
    "\n",
    "class Doc2VecTransformer(BaseEstimator):\n",
    "\n",
    "    def __init__(self, vector_size=15, learning_rate=0.01, epochs=10):\n",
    "        self.learning_rate = learning_rate\n",
    "        self.epochs = epochs\n",
    "        self._model = None\n",
    "        self.vector_size = vector_size\n",
    "        self.workers = multiprocessing.cpu_count() - 1\n",
    "\n",
    "    def fit(self, df_x, df_y=None):\n",
    "        tagged_x = [TaggedDocument(str(row['REPORTED_UTTERANCE_TEXT']).split(), [index]) for index, row in df_x.iterrows()]\n",
    "        model = Doc2Vec(documents=tagged_x, vector_size=self.vector_size, workers=self.workers)\n",
    "\n",
    "        for epoch in range(self.epochs):\n",
    "            model.train(skl_utils.shuffle([x for x in tqdm(tagged_x)]), total_examples=len(tagged_x), epochs=1)\n",
    "            model.alpha -= self.learning_rate\n",
    "            model.min_alpha = model.alpha\n",
    "\n",
    "        self._model = model\n",
    "        return self\n",
    "\n",
    "    def transform(self, df_x):\n",
    "        return np.asmatrix(np.array([self._model.infer_vector(str(row['REPORTED_UTTERANCE_TEXT']).split())\n",
    "                                     for index, row in df_x.iterrows()]))"
   ]
  },
  {
   "cell_type": "code",
   "execution_count": 15,
   "metadata": {},
   "outputs": [
    {
     "name": "stderr",
     "output_type": "stream",
     "text": [
      "100%|██████████| 61787/61787 [00:00<00:00, 2900268.16it/s]\n",
      "100%|██████████| 61787/61787 [00:00<00:00, 3086740.37it/s]\n",
      "100%|██████████| 61787/61787 [00:00<00:00, 3278141.31it/s]\n",
      "100%|██████████| 61787/61787 [00:00<00:00, 2961280.04it/s]\n",
      "100%|██████████| 61787/61787 [00:00<00:00, 3377780.60it/s]\n",
      "100%|██████████| 61787/61787 [00:00<00:00, 2750864.70it/s]\n",
      "100%|██████████| 61787/61787 [00:00<00:00, 2911738.49it/s]\n",
      "100%|██████████| 61787/61787 [00:00<00:00, 2948678.56it/s]\n",
      "100%|██████████| 61787/61787 [00:00<00:00, 3165967.81it/s]\n",
      "100%|██████████| 61787/61787 [00:00<00:00, 2562298.78it/s]\n"
     ]
    }
   ],
   "source": [
    "doc2vec_tr = Doc2VecTransformer(vector_size=15)\n",
    "doc2vec_tr.fit(data)\n",
    "doc2vec_vectors = doc2vec_tr.transform(data)"
   ]
  },
  {
   "cell_type": "code",
   "execution_count": 16,
   "metadata": {},
   "outputs": [
    {
     "name": "stdout",
     "output_type": "stream",
     "text": [
      "[[        nan         nan         nan ...         nan         nan\n",
      "          nan]\n",
      " [        nan         nan         nan ...         nan         nan\n",
      "          nan]\n",
      " [        nan         nan         nan ...         nan         nan\n",
      "          nan]\n",
      " ...\n",
      " [ 0.02273718 -0.0112477  -0.02823769 ... -0.021757   -0.0036422\n",
      "   0.01748796]\n",
      " [        nan         nan         nan ...         nan         nan\n",
      "          nan]\n",
      " [        nan         nan         nan ...         nan         nan\n",
      "          nan]]\n"
     ]
    }
   ],
   "source": [
    "print(doc2vec_vectors)"
   ]
  },
  {
   "cell_type": "code",
   "execution_count": 17,
   "metadata": {},
   "outputs": [
    {
     "name": "stdout",
     "output_type": "stream",
     "text": [
      "[[ 0.          0.          0.         ...  0.          0.\n",
      "   0.        ]\n",
      " [ 0.          0.          0.         ...  0.          0.\n",
      "   0.        ]\n",
      " [ 0.          0.          0.         ...  0.          0.\n",
      "   0.        ]\n",
      " ...\n",
      " [ 0.02273718 -0.0112477  -0.02823769 ... -0.021757   -0.0036422\n",
      "   0.01748796]\n",
      " [ 0.          0.          0.         ...  0.          0.\n",
      "   0.        ]\n",
      " [ 0.          0.          0.         ...  0.          0.\n",
      "   0.        ]]\n"
     ]
    }
   ],
   "source": [
    "doc2vec_vectors1 = doc2vec_vectors\n",
    "doc2vec_vectors1 = np.nan_to_num(doc2vec_vectors1, nan=0, posinf=2, neginf=1)\n",
    "print(doc2vec_vectors1)"
   ]
  },
  {
   "cell_type": "code",
   "execution_count": 18,
   "metadata": {},
   "outputs": [],
   "source": [
    "#Training an autoencoder\n",
    "from sklearn.neural_network import MLPRegressor\n",
    "auto_encoder = MLPRegressor(hidden_layer_sizes=(17,14,17))\n",
    "auto_encoder.fit(doc2vec_vectors1, doc2vec_vectors1)\n",
    "predicted_vectors = auto_encoder.predict(doc2vec_vectors1)"
   ]
  },
  {
   "cell_type": "code",
   "execution_count": 19,
   "metadata": {},
   "outputs": [
    {
     "data": {
      "text/plain": [
       "0.6359283865203083"
      ]
     },
     "execution_count": 19,
     "metadata": {},
     "output_type": "execute_result"
    }
   ],
   "source": [
    "auto_encoder.score(predicted_vectors, doc2vec_vectors1)"
   ]
  },
  {
   "cell_type": "code",
   "execution_count": 20,
   "metadata": {},
   "outputs": [
    {
     "data": {
      "text/plain": [
       "<matplotlib.axes._subplots.AxesSubplot at 0x172001b90>"
      ]
     },
     "execution_count": 20,
     "metadata": {},
     "output_type": "execute_result"
    },
    {
     "data": {
      "image/png": "[encoded data removed]",
      "text/plain": [
       "<Figure size 432x288 with 1 Axes>"
      ]
     },
     "metadata": {
      "needs_background": "light"
     },
     "output_type": "display_data"
    }
   ],
   "source": [
    "pd.DataFrame(auto_encoder.loss_curve_).plot()"
   ]
  },
  {
   "cell_type": "code",
   "execution_count": 21,
   "metadata": {},
   "outputs": [],
   "source": [
    "from scipy.spatial.distance import cosine\n",
    "\n",
    "def key_consine_similarity(tupple):\n",
    "    return tupple[1]\n",
    "\n",
    "def get_computed_similarities(vectors, predicted_vectors, reverse=False):\n",
    "    data_size = len(data)\n",
    "    cosine_similarities = []\n",
    "    for i in range(data_size):\n",
    "        cosine_sim_val = (1 - cosine(vectors[i], predicted_vectors[i]))\n",
    "        cosine_similarities.append((i, cosine_sim_val))\n",
    "\n",
    "    return sorted(cosine_similarities, key=key_consine_similarity, reverse=reverse)\n",
    "\n",
    "def display_top_n(sorted_cosine_similarities, n=5000):\n",
    "    for i in range(n):\n",
    "        index, consine_sim_val = sorted_cosine_similarities[i]\n",
    "        if len(data.iloc[index, 0].split())>5:\n",
    "            print(' ', data.iloc[index, 0])\n",
    "        #print('Cosine Similarity Value :', consine_sim_val)\n",
    "        #print('---------------------------------')"
   ]
  },
  {
   "cell_type": "code",
   "execution_count": 22,
   "metadata": {},
   "outputs": [],
   "source": [
    "# extract n grams from anomaly utterances\n",
    "def extract_ngrams(data, num):\n",
    "    n_grams = TextBlob(data).ngrams(num)\n",
    "    return [ ' '.join(grams) for grams in n_grams]"
   ]
  },
  {
   "cell_type": "code",
   "execution_count": 3,
   "metadata": {},
   "outputs": [],
   "source": [
    "def display_top_n_grams(sorted_cosine_similarities, n=5000):\n",
    "    for i in range(n):\n",
    "        index, consine_sim_val = sorted_cosine_similarities[i]\n",
    "        if len(data.iloc[index, 0].split())>6:\n",
    "            print(extract_ngrams(data.iloc[index, 0], 5)[0:2])\n",
    "        #print('Cosine Similarity Value :', consine_sim_val)\n",
    "        #print('---------------------------------')"
   ]
  },
  {
   "cell_type": "code",
   "execution_count": 4,
   "metadata": {},
   "outputs": [
    {
     "name": "stdout",
     "output_type": "stream",
     "text": [
      "Top 500 UTTERANCES\n"
     ]
    },
    {
     "ename": "NameError",
     "evalue": "name 'doc2vec_vectors1' is not defined",
     "output_type": "error",
     "traceback": [
      "\u001b[0;31m---------------------------------------------------------------------------\u001b[0m",
      "\u001b[0;31mNameError\u001b[0m                                 Traceback (most recent call last)",
      "\u001b[0;32m<ipython-input-4-898a428f001c>\u001b[0m in \u001b[0;36m<module>\u001b[0;34m\u001b[0m\n\u001b[1;32m      1\u001b[0m \u001b[0mprint\u001b[0m\u001b[0;34m(\u001b[0m\u001b[0;34m'Top 500 UTTERANCES'\u001b[0m\u001b[0;34m)\u001b[0m\u001b[0;34m\u001b[0m\u001b[0;34m\u001b[0m\u001b[0m\n\u001b[0;32m----> 2\u001b[0;31m \u001b[0msorted_cosine_similarities\u001b[0m \u001b[0;34m=\u001b[0m \u001b[0mget_computed_similarities\u001b[0m\u001b[0;34m(\u001b[0m\u001b[0mvectors\u001b[0m\u001b[0;34m=\u001b[0m\u001b[0mdoc2vec_vectors1\u001b[0m\u001b[0;34m,\u001b[0m \u001b[0mpredicted_vectors\u001b[0m\u001b[0;34m=\u001b[0m\u001b[0mpredicted_vectors\u001b[0m\u001b[0;34m)\u001b[0m\u001b[0;34m\u001b[0m\u001b[0;34m\u001b[0m\u001b[0m\n\u001b[0m\u001b[1;32m      3\u001b[0m \u001b[0mdisplay_top_n\u001b[0m\u001b[0;34m(\u001b[0m\u001b[0msorted_cosine_similarities\u001b[0m\u001b[0;34m=\u001b[0m\u001b[0msorted_cosine_similarities\u001b[0m\u001b[0;34m)\u001b[0m\u001b[0;34m\u001b[0m\u001b[0;34m\u001b[0m\u001b[0m\n",
      "\u001b[0;31mNameError\u001b[0m: name 'doc2vec_vectors1' is not defined"
     ]
    }
   ],
   "source": [
    "print('Top 500 UTTERANCES')\n",
    "sorted_cosine_similarities = get_computed_similarities(vectors=doc2vec_vectors1, predicted_vectors=predicted_vectors)\n",
    "display_top_n(sorted_cosine_similarities=sorted_cosine_similarities)"
   ]
  },
  {
   "cell_type": "code",
   "execution_count": 480,
   "metadata": {},
   "outputs": [
    {
     "name": "stdout",
     "output_type": "stream",
     "text": [
      "Top 500 POTENTIAL EMERGING TOPICS\n",
      "['well i have no picture', 'i have no picture screen']\n",
      "['speak to rep problems with', 'to rep problems with my']\n",
      "['t_v in living room says', 'in living room says no']\n",
      "['message across screen device tech', 'across screen device tech restart']\n",
      "['your number cable cost my', 'number cable cost my screen']\n",
      "['my television a purchase channel', 'television a purchase channel does']\n",
      "['need help um support with', 'help um support with our']\n",
      "['t_v is not working returned', 'is not working returned change']\n",
      "[\"i do n't have any\", \"do n't have any picture\"]\n",
      "['one of my t_v is', 'of my t_v is not']\n",
      "['message r_d_k zero three zero', 'r_d_k zero three zero five']\n",
      "['error code x_r_e zero three', 'code x_r_e zero three zero']\n",
      "['my t_v is out and', 't_v is out and i']\n",
      "['no picture on or sound', 'picture on or sound on']\n",
      "['no picture add box not', 'picture add box not working']\n",
      "[\"i ca n't get the\", \"ca n't get the television\"]\n",
      "[\"my t_v wo n't turn\", \"t_v wo n't turn on\"]\n",
      "['yes my t_v showing no', 'my t_v showing no signal']\n",
      "['uh cable on t_v two', 'cable on t_v two is']\n",
      "['just called me back when', 'called me back when when']\n",
      "['no signal weak on and', 'signal weak on and signal']\n",
      "['starz is not functioning and', 'is not functioning and inquiry']\n",
      "['little black t_v box is', 'black t_v box is blinking']\n",
      "['i need to reset the', 'need to reset the t_v']\n",
      "['am not receiving signal my', 'not receiving signal my t_v']\n",
      "['we need to talk to', 'need to talk to technician']\n",
      "['i wan na my boxes', 'wan na my boxes is']\n",
      "['we have lost sound on', 'have lost sound on one']\n",
      "[\"why ca n't i get\", \"ca n't i get m\"]\n",
      "[\"i 'm trying to get\", \"'m trying to get my\"]\n",
      "['having trouble with my small', 'trouble with my small t_v']\n",
      "['our main cable line is', 'main cable line is not']\n",
      "[\"money my starz is n't\", \"my starz is n't included\"]\n",
      "['the t_vs not working right', 't_vs not working right its']\n",
      "['my cable is not working', 'cable is not working my']\n",
      "['up twenty turn in the', 'twenty turn in the t_v']\n",
      "['i have no picture on', 'have no picture on my']\n",
      "['t_v not working error code', 'not working error code x_r_e']\n",
      "['my channel not receive not', 'channel not receive not getting']\n",
      "['master bedroom t_v not receiving', 'bedroom t_v not receiving not']\n",
      "['no digital channels i need', 'digital channels i need supervisor']\n",
      "['i wan na t_vs work', 'wan na t_vs work at']\n",
      "['i need to speak to', 'need to speak to somebody']\n",
      "['my um not getting reception', 'um not getting reception on']\n",
      "['my channel i_d c only', 'channel i_d c only has']\n",
      "[\"i ca n't get picture\", \"ca n't get picture on\"]\n",
      "['account issue with my cable', 'issue with my cable box']\n",
      "['one of my t_v is', 'of my t_v is with']\n",
      "['i have two televisions one', 'have two televisions one working']\n",
      "['main t_v not working it', 't_v not working it says']\n",
      "['channel one sixty five sound', 'one sixty five sound is']\n",
      "['box not work t_v box', 'not work t_v box is']\n",
      "['my small box is not', 'small box is not picking']\n",
      "['so we were supposed to', 'we were supposed to the']\n",
      "['my television keeps going out', 'television keeps going out i']\n",
      "['having a problem with my', 'a problem with my television']\n",
      "['one t_v is not uh', 't_v is not uh getting']\n",
      "['speak with an agent out', 'with an agent out all']\n",
      "['service no sound on my', 'no sound on my cable']\n",
      "['i have my television in', 'have my television in my']\n",
      "['t_vs not working and bedrooms', 'not working and bedrooms and']\n",
      "['need a technician come why', 'a technician come why my']\n",
      "['one of my televisions i', \"of my televisions i 'm\"]\n",
      "[\"new is n't fire crossed\", \"is n't fire crossed the\"]\n",
      "['my cable box my cable', 'cable box my cable is']\n",
      "['my t_v has a resolution', 't_v has a resolution that']\n",
      "['i have a new t_v', 'have a new t_v tech']\n",
      "['i need technician for my', 'need technician for my to']\n",
      "['not my television is not', 'my television is not working']\n",
      "['technical problem would like talk', 'problem would like talk to']\n",
      "['um take cable is not', 'take cable is not working']\n",
      "['television not working says television', 'not working says television not']\n",
      "['i suppose have a comcast', 'suppose have a comcast or']\n",
      "['i have no signal on', 'have no signal on my']\n",
      "['uh when my programs is', 'when my programs is not']\n",
      "['um my television is not', 'my television is not working']\n",
      "['uh something wrong with our', 'something wrong with our cable']\n",
      "[\"i do n't have picture\", \"do n't have picture on\"]\n",
      "[\"i 'm having trouble with\", \"'m having trouble with connection\"]\n",
      "['i need issues regarding my', 'need issues regarding my internet']\n",
      "['on our smaller t_v we', 'our smaller t_v we have']\n",
      "[\"i ca n't get my\", \"ca n't get my t_v\"]\n"
     ]
    }
   ],
   "source": [
    "print('Top 500 POTENTIAL EMERGING TOPICS')\n",
    "sorted_cosine_similarities = get_computed_similarities(vectors=doc2vec_vectors1, predicted_vectors=predicted_vectors)\n",
    "display_top_n_grams(sorted_cosine_similarities=sorted_cosine_similarities)"
   ]
  },
  {
   "cell_type": "code",
   "execution_count": 294,
   "metadata": {},
   "outputs": [],
   "source": [
    "sorted_cosine_similarities1 = pd.DataFrame(sorted_cosine_similarities)"
   ]
  },
  {
   "cell_type": "code",
   "execution_count": null,
   "metadata": {},
   "outputs": [],
   "source": [
    "sorted_cosine_similarities1.head(10)"
   ]
  },
  {
   "cell_type": "code",
   "execution_count": 308,
   "metadata": {},
   "outputs": [
    {
     "data": {
      "text/plain": [
       "'blue light solid blue come'"
      ]
     },
     "execution_count": 308,
     "metadata": {},
     "output_type": "execute_result"
    }
   ],
   "source": [
    "extract_ngrams(\"a blue light solid blue come over screen from time time we don't\", 5)[1]"
   ]
  },
  {
   "cell_type": "code",
   "execution_count": 305,
   "metadata": {},
   "outputs": [
    {
     "data": {
      "text/plain": [
       "\"picture keeps does n't sound\""
      ]
     },
     "execution_count": 305,
     "metadata": {},
     "output_type": "execute_result"
    }
   ],
   "source": [
    "extract_ngrams(\"live picture keeps doesn't sound is dropping out the picture keeps stalling\", 5)[1]"
   ]
  },
  {
   "cell_type": "code",
   "execution_count": 317,
   "metadata": {},
   "outputs": [
    {
     "data": {
      "text/plain": [
       "'menu has changed i do'"
      ]
     },
     "execution_count": 317,
     "metadata": {},
     "output_type": "execute_result"
    }
   ],
   "source": [
    "extract_ngrams(\"someone menu has changed i don't get channels that i'm supposed to get\", 5)[1]"
   ]
  },
  {
   "cell_type": "code",
   "execution_count": null,
   "metadata": {},
   "outputs": [],
   "source": []
  }
 ],
 "metadata": {
  "kernelspec": {
   "display_name": "Python 3",
   "language": "python",
   "name": "python3"
  },
  "language_info": {
   "codemirror_mode": {
    "name": "ipython",
    "version": 3
   },
   "file_extension": ".py",
   "mimetype": "text/x-python",
   "name": "python",
   "nbconvert_exporter": "python",
   "pygments_lexer": "ipython3",
   "version": "3.7.4"
  }
 },
 "nbformat": 4,
 "nbformat_minor": 4
}
